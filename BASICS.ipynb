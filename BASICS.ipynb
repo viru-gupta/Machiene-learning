{
 "cells": [
  {
   "cell_type": "raw",
   "metadata": {},
   "source": [
    "#                                         Machine Learning\n",
    "*Supervised learning                  |        *Unsupervised learning      |        *Reinforcement Learning\n",
    "two types                             |         two types                  |        two types\n",
    "*Classification                       |        *Clustring                  |        *Positive types\n",
    "*Regression                           |        *Association                |        *Negative type"
   ]
  },
  {
   "cell_type": "raw",
   "metadata": {},
   "source": [
    "Supervised Learning --> It is a type of learning in which both inputs and outputs are given and based on the supervision the new input is validated"
   ]
  },
  {
   "cell_type": "raw",
   "metadata": {},
   "source": [
    "Unsupervised Learning --> It is a type leraning in which only inputs are given ,based on the objects appearnce value and similarities the decison is made and inputs are grouped "
   ]
  },
  {
   "cell_type": "raw",
   "metadata": {},
   "source": [
    "Reinforcement Learning --> It is a type of learning in which the decision is taken by the machiene based on the previous tokens given ,here we give negative token for wrong decision and positive token for the correct decison"
   ]
  },
  {
   "cell_type": "raw",
   "metadata": {},
   "source": [
    "Supervisied"
   ]
  },
  {
   "cell_type": "raw",
   "metadata": {},
   "source": [
    "Classification - In this the inputs are claasified into groups like(True or False) example - email is spam or not span, colour is red or blue\n",
    "*Decision Tree\n",
    "*Native Bytes - bayes theorem\n",
    "*Random forest - Avarging random charts\n",
    "*K nearest neighbours - use to judge given input belongs to which group\n",
    "*Logistic regression"
   ]
  },
  {
   "cell_type": "raw",
   "metadata": {},
   "source": [
    "Regresssion - In this type values are plotted in a graph like age,weight,currency etc\n",
    "many types\n",
    "*Simple Linear Regression  -  y=a+bx                  #single degree\n",
    "*Polynomial Regression     -  y=a0+a1b1+a2b2+anbn     #multi degree\n",
    "*Support vector Regression -  In this both classification and regression can be d\n",
    "*Decison tree regression\n",
    "*Random forest regression"
   ]
  },
  {
   "cell_type": "raw",
   "metadata": {},
   "source": [
    "Unsupervisied"
   ]
  },
  {
   "cell_type": "raw",
   "metadata": {},
   "source": [
    "Clustring - In this type the inputs are grouped or clustered in the plot which makes groups of similar elements \n",
    "many types\n",
    "*K-means clusttering - clusters are formed with some predefined element clustters\n",
    "*hirecheal clusttering (Top to down and bottom to Top mechanism)\n",
    "*Mean-shift clusttering (centre circle and sliding window for high dense elements)\n",
    "*Density-based clusttering (many clustters are formed in dende regions of elements)"
   ]
  },
  {
   "cell_type": "raw",
   "metadata": {},
   "source": [
    "Association - In this method is based on directed aads like the person who buys this also likes to buy this type groups different elements with the previous results\n",
    "its just a prediction\n",
    "people buy A tends to buy B\n",
    "and peoplr who buy or search A and B tend to buy C\n",
    "3 types of algorithm\n",
    "*Apropri algoritm      - based on transcations\n",
    "*Eclat Algoritm        - frequent searches\n",
    "*F-P growth algorithm  - frequent pattern and improved version of above by tree formation"
   ]
  },
  {
   "cell_type": "code",
   "execution_count": null,
   "metadata": {},
   "outputs": [],
   "source": []
  }
 ],
 "metadata": {
  "kernelspec": {
   "display_name": "Python 3",
   "language": "python",
   "name": "python3"
  },
  "language_info": {
   "codemirror_mode": {
    "name": "ipython",
    "version": 3
   },
   "file_extension": ".py",
   "mimetype": "text/x-python",
   "name": "python",
   "nbconvert_exporter": "python",
   "pygments_lexer": "ipython3",
   "version": "3.8.3"
  }
 },
 "nbformat": 4,
 "nbformat_minor": 4
}
